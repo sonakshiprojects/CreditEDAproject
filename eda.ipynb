{
 "cells": [
  {
   "cell_type": "markdown",
   "id": "b5a89827",
   "metadata": {},
   "source": [
    "## CREDIT EDA PROJECT"
   ]
  },
  {
   "cell_type": "markdown",
   "id": "d808f23a",
   "metadata": {},
   "source": []
  }
 ],
 "metadata": {
  "language_info": {
   "name": "python"
  }
 },
 "nbformat": 4,
 "nbformat_minor": 5
}
